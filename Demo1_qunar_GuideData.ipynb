{
 "cells": [
  {
   "cell_type": "code",
   "execution_count": 5,
   "id": "3d15fb78",
   "metadata": {},
   "outputs": [],
   "source": [
    "import requests\n",
    "from bs4 import BeautifulSoup"
   ]
  },
  {
   "cell_type": "code",
   "execution_count": 6,
   "id": "38ce3c5b",
   "metadata": {},
   "outputs": [],
   "source": [
    "url= \"https://travel.qunar.com/travelbook/list/三亚/hot_heat/1.htm\"\n",
    "\n",
    "def fetchGuide(url):\n",
    "    \n",
    "    # Copy parameters from browser\n",
    "    headers = {\n",
    "        'accept': 'text/html,application/xhtml+xml,application/xml;q=0.9,image/avif,image/webp,image/apng,*/*;q=0.8,application/signed-exchange;v=b3;q=0.9'\n",
    "        ,'accept-encoding': 'gzip, deflate, br'\n",
    "        ,'accept-language': 'zh-CN,zh;q=0.9'\n",
    "        ,'cache-control': 'max-age=0'\n",
    "        ,'cookie': 'QN1=00009080306c3944ca081651; QN99=6009; QunarGlobal=10.86.213.148_-332dc806_17ca596c5b8_4bd2|1634865985991; QN601=198047fde20de10eb695b8fdfe3566a4; QN269=14E98B1132D711ECBF20FA163E217C9C; _i=ueHd8NCX9mfX7FjyUieSRnFiUJ-X; QN48=00008d002f103944ca287021; fid=b0207184-233c-4754-877b-ee4fe80e8ac5; QN300=auto_4e0d874a; QN277=auto_4e0d874a; QN205=auto_4e0d874a; HN1=v1a295f9201942f6f37f1924b59f328e2a; HN2=qucslqlkrsusu; csrfToken=wwJxjPkXenv9Pdai247eA91Ccd9ggohC; qunar-assist={%22show%22:false%2C%22audio%22:false%2C%22speed%22:%22middle%22%2C%22zomm%22:1%2C%22cursor%22:false%2C%22pointer%22:false%2C%22bigtext%22:false%2C%22overead%22:false%2C%22readscreen%22:false}; qunar-assist-ignore=[%22https://www.qunar.com/%22]; QN163=0; QN6=auto_4e0d874a; SECKEY_CID2=a6d1db3ae0d051d6f1486e6208878bcfb0b626ed; BMAP_SECKEY2=348b3ea8be0aad420af3f6fd20b5fe5d742b033169aaff9e55468f20442b2a4079fc11a7bd963ba9f8cb6be3ba7407e73b6fce9ae6fd7d808f0466c44c5b81ead435cc8349a943b0f3928367a825d9ba2f72343e4cc2d8ffb1c3e55662a402c47813d5d7815734abf9cf43cc780295529265effaf05999a771b4d52f159de9f123afb78063aed415b32f638f832ce2b0b23b1bda58bc6f8197d2960a3a5e1409c87782b66e4edf46b5483c6a3f4d827f0cdc1dcc312429b5cbf53e6884fc353b622b9ed7b549cae80f27bf16bd61cc81acc59afe605e95329f05b88f459e6db6f4ba58dfd2cf9e27ffe1ff1ea00c0643; ctt_june=1624603727149##iK3wVRDwWhPwawPwasHGXSj8W2DNWRgnXKfTaKXNXKWRXStwaPfRWRHGa2DAiK3siK3saKjsWR2OWsPsaSaNauPwaUvt; _vi=qjArjPgR-mH7_P0-iszJrSSjuHKNSG5PDBJZ9gOh-LbE3JETZw6fzkV-nDeMtTnFffW9T8llhge-InCNSW30z8HHAMsX00VxLaJCX-2gGKWFs5Qq1a0rnJZKYTukgMIx332XP-LU3vi6JX734mEE1VJz84TzmVI1PdGwzZLs4CQZ; tabIndex=0; cityUrl=shanghai_city; cityName=%25E4%25B8%258A%25E6%25B5%25B7; checkInDate=2021-11-30; checkOutDate=2021-12-01; QN267=0152221845862fa64fc; ctf_june=1624603727149##iK3wasv8WuPwawPwa%3DkhaRtOVDXNESfREREDX%3D3mERPNEPanWK0hVDDwVRjAiK3siK3saKjsWR2%2BWstNWRXNVhPwaUvt; QN271=9c98334d-42e8-4da5-ba49-da206fe1246c; cs_june=a4e7c8acd60e0c8483c9c4af0f303f81df6361696daefcf359213b3b8970a158cbe5e6f7383b6549e0e4f45ff384fba3cbaa742089d0e876931a25aef726e978b17c80df7eee7c02a9c1a6a5b97c117931c6ace31985c55d765acdb0081ddd7f5a737ae180251ef5be23400b098dd8ca; __qt=v1%7CVTJGc2RHVmtYMS9SRXVHd3lLZnlhT002VVlHWUdxdUJzcHgwNjlzR0cydERWV3pTaFhUSm9iYUlwMWJWUE1iNDlsWnV5RG5YZVNISW9HSG5wc3ZGNzFxTEZUKzk0aDZONTdnMkQxendvV0RCMlN3Z0xOcGNmSTZJdVFrZW91MHBWMS9UK3dySUVnbnJnaXRYR21rL241dE5kem1pRXV6MXVINFlTd1lnTUhVPQ%3D%3D%7C1634977992282%7CVTJGc2RHVmtYMSt2OHQ5Tlc0N1ptYXBRa2doNFo5bTNNcnNpWGh3QlI0WG56R0Z1YWMvazFBbkdxNk4zZEZ4a1pIRElDWmtKaXRJTzBsSnd1OEZDTlE9PQ%3D%3D%7CVTJGc2RHVmtYMStVdEN6b01mS3dCRHl2U0hHQ3RBdWVKSi9oYWFaRUxBYU15Qy9mNHNvYVB1emV2Ni9BVWlxb0h3NDZqT1ErM2J0ZFA1NTdiSThSSHd4cWtFWndjTGRSdllsZ3NQbGdRQ0JzYWNQUGh4QU9kcFN2Q05UM0RhRWJsUlZBSXFPdkE2a2dZRzB3M2ZwMUdMTVd5NVNmK0cvcFdPMXBTSnhIa2I3ZW9teCtuQ0pYQ3lWWG5wSHdOSHlyN3gvQUdLeDFNWEFkblNCaW8ybkhoMkxjbWMzKzFNd212MkFkbXkwakNCYkVJUlZiMUVCVytvd05naWNBcHoyaXpwdGQvekFjNmRhVWt4a1Vhb2NBb1poQUJzSDY4ZG1IOWNBN0NQMG5Gdlp4WmhMTzBRT3EvZk4vWllUemg5MWxLUEhhU2dGSDBKYVNSZWpsT1RINGU1dU5oM01lODZFRkhZbVRFYTcxUmlzVDNYL1pmc1dXbFlGdVZiTCtxbWJna1ZCRlZBcjBrTXZ2aGRydWxnWWw1STlML3BRc2EvRDVYNmlFY2doaEIrRVd4aTROaU5KN0JCaGNvOThmRVQ4MFlzMGFhd0U1TDViMkd3aXlJdGtqMkFrVGdYMUp1Qmo0TzJvYmxDRmhDM3N1UFNWajJuV1VXa2tEM3Q4OHduSEhXM05VVkNkcjN0bng4R2JVL2V5YXRQM0ZNc3I0TGlwT0hyNk8rNmFGNlhEeUxhNnNqYzIvZ2NTdnFoRHF0TVZSTkc2aXNjOU1NMGhoQjEvL0t3UzRQTS96ZkdML3lvd1YxSFN0R2prYmpIenF2cjVMSkU0ZGFRMWJzZk52Qzd5ZGxUZ0Q1Z1JhT2JGbGxjWFBDaTZZTDJRa0ZBL3MvNkZacVNHb0UyQ0ZhU0E9'\n",
    "        ,'if-none-match': 'W/\"52de8-3+EpRWW/CKyGsei/6265AGZFmK4\"'\n",
    "        ,'referer': 'https://hotel.qunar.com/'\n",
    "        ,'sec-ch-ua': '\"Chromium\";v=\"106\", \"Google Chrome\";v=\"106\", \"Not;A=Brand\";v=\"99\"'\n",
    "        ,'sec-ch-ua-mobile': '?0'\n",
    "        ,'sec-ch-ua-platform': '\"macOS\"'\n",
    "        ,'sec-fetch-dest': 'empty'\n",
    "        ,'sec-fetch-mode': 'cors'\n",
    "        ,'sec-fetch-site': 'same-site'\n",
    "        ,'sec-fetch-user': '?1'\n",
    "        ,'upgrade-insecure-requests': '1'\n",
    "        ,'User-Agent' : 'Mozilla/5.0 (Macintosh; Intel Mac OS X 10_15_7) AppleWebKit/537.36 (KHTML, like Gecko) Chrome/106.0.0.0 Safari/537.36'\n",
    "    }\n",
    " \n",
    "    # Send a network and get the information\n",
    "    r = requests.get(url,headers=headers)\n",
    "    r.encoding = \"utf-8\"\n",
    "    return r.text"
   ]
  },
  {
   "cell_type": "code",
   "execution_count": 7,
   "id": "8a70fc79",
   "metadata": {},
   "outputs": [
    {
     "name": "stderr",
     "output_type": "stream",
     "text": [
      "/Users/isla/opt/anaconda3/lib/python3.9/site-packages/bs4/__init__.py:404: MarkupResemblesLocatorWarning: The input looks more like a URL than markup. You may want to use an HTTP client like requests to get the document behind the URL, and feed that document to Beautiful Soup.\n",
      "  warnings.warn(\n"
     ]
    }
   ],
   "source": [
    "# Get the total number of pages\n",
    "\n",
    "def getPageNum(html):\n",
    "    pageNum=1\n",
    "    bsObj = BeautifulSoup(html,\"html.parser\")\n",
    "    pageList = bsObj.find(\"div\",attrs = {\"class\":\"b_paging\"}).find_all(\"a\")\n",
    "    if(pageList):\n",
    "        pageNum = pageList[-2].text\n",
    "    return int(pageNum)"
   ]
  },
  {
   "cell_type": "code",
   "execution_count": 7,
   "id": "6e532920",
   "metadata": {},
   "outputs": [],
   "source": [
    "# Parse html pages and extract data\n",
    "\n",
    "def parseHtml(html):\n",
    "    bsObj = BeautifulSoup(html,\"html.parser\")\n",
    "    bookList = bsObj.find(\"ul\",attrs = {\"class\":\"b_strategy_list\"})\n",
    "    books = []\n",
    " \n",
    "    for book in bookList:\n",
    "        # Title\n",
    "        title = book.h2.a.text\n",
    "        # Link\n",
    "        link = \"https://travel.qunar.com\" + book.h2.a[\"href\"]\n",
    "        user_info = book.find(\"p\", attrs = {\"class\":\"user_info\"})\n",
    "        intro = user_info.find(\"span\", attrs = {\"class\":\"intro\"})\n",
    "        # User name\n",
    "        user_name = intro.find(\"span\", attrs = {\"class\":\"user_name\"}).text\n",
    "        # Departure date\n",
    "        date = intro.find(\"span\", attrs = {\"class\":\"date\"}).text\n",
    "        # Travel duration\n",
    "        days = intro.find(\"span\", attrs = {\"class\":\"days\"}).text\n",
    "        \n",
    "        # Photo numbers\n",
    "        photoTmp = intro.find(\"span\", attrs = {\"class\":\"photo_nums\"})\n",
    "        if(photoTmp):\n",
    "            photo_nums = photoTmp.text\n",
    "        else:\n",
    "            photo_nums = \"没有照片\"\n",
    "            \n",
    "        # Choice of travel mates\n",
    "        peopleTmp = intro.find(\"span\", attrs = {\"class\":\"people\"})\n",
    "        if(peopleTmp):\n",
    "            people = peopleTmp.text\n",
    "        else:\n",
    "            people = \"\"\n",
    " \n",
    "        # Travel type\n",
    "        tripTmp = intro.find(\"span\", attrs = {\"class\":\"trip\"})\n",
    "        if(tripTmp):\n",
    "            trip = tripTmp.text\n",
    "        else:\n",
    "            trip = \"\"\n",
    "\n",
    "        # Travel costs\n",
    "        feeTmp = intro.find(\"span\", attrs = {\"class\":\"fee\"})\n",
    "        if(feeTmp):\n",
    "            fee = feeTmp.text\n",
    "        else:\n",
    "            fee = \"\"\n",
    " \n",
    "        nums = user_info.find(\"span\", attrs = {\"class\":\"nums\"})\n",
    "    \n",
    "        # View numbers\n",
    "        icon_view = nums.find(\"span\", attrs = {\"class\":\"icon_view\"}).span.text\n",
    "        \n",
    "        # Love numbers\n",
    "        icon_love = nums.find(\"span\", attrs = {\"class\":\"icon_love\"}).span.text\n",
    "        \n",
    "        # Comment numbers\n",
    "        icon_comment = nums.find(\"span\", attrs = {\"class\":\"icon_comment\"}).span.text\n",
    " \n",
    "        books = [[title,link,user_name,date,days,photo_nums,people,trip,fee,icon_view,icon_love,icon_comment]]\n",
    "        yield books"
   ]
  },
  {
   "cell_type": "code",
   "execution_count": 8,
   "id": "ee54da82",
   "metadata": {},
   "outputs": [],
   "source": [
    "# Save file\n",
    "\n",
    "def saveCsvFile(filename,content):\n",
    "    import pandas as pd\n",
    "    dataframe = pd.DataFrame(content)\n",
    "    dataframe.to_csv(filename, encoding='utf_8_sig', mode='a', index=False, sep=',', header=False )"
   ]
  },
  {
   "cell_type": "code",
   "execution_count": null,
   "id": "cb9fd6b8",
   "metadata": {},
   "outputs": [],
   "source": [
    "# Get multiple pages of data\n",
    "\n",
    "def downloadBookInfo(url,fileName):\n",
    "    head = [[\"标题\",\"链接\",\"作者\",\"出发日期\",\"天数\",\"照片数\",\"人数\",\"玩法\",\"费用\",\"阅读数\",\"点赞数\",\"评论数\"]]\n",
    "    saveCsvFile(fileName, head)\n",
    "    html = fetchGuide(url)\n",
    "    pageNum = getPageNum(html)\n",
    "    for page in range(1, pageNum + 1):\n",
    "        print(\"正在爬取\",str(page), \"页 .......\")\n",
    "        url = \"https://travel.qunar.com/travelbook/list/%E4%B8%89%E4%BA%9A/hot_ctime/\" + str(page) + \".htm\"\n",
    "        html = fetchGuide(url)\n",
    "        for book in parseHtml(html):\n",
    "            saveCsvFile(fileName, book)\n",
    "            \n",
    "url = \"https://travel.qunar.com/travelbook/list/三亚/hot_heat/1.htm\"\n",
    "fileName = \"2sanya_data.csv\"\n",
    "downloadBookInfo(url,fileName)\n",
    "print(\"全部完成！\")"
   ]
  }
 ],
 "metadata": {
  "kernelspec": {
   "display_name": "Python 3 (ipykernel)",
   "language": "python",
   "name": "python3"
  },
  "language_info": {
   "codemirror_mode": {
    "name": "ipython",
    "version": 3
   },
   "file_extension": ".py",
   "mimetype": "text/x-python",
   "name": "python",
   "nbconvert_exporter": "python",
   "pygments_lexer": "ipython3",
   "version": "3.9.12"
  }
 },
 "nbformat": 4,
 "nbformat_minor": 5
}
