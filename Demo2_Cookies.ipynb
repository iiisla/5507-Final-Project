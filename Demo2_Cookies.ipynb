{
 "cells": [
  {
   "cell_type": "code",
   "execution_count": 3,
   "id": "0f7221e6",
   "metadata": {},
   "outputs": [
    {
     "name": "stderr",
     "output_type": "stream",
     "text": [
      "/var/folders/wt/yyz95v2s7bj68s5bdn7mr34r0000gn/T/ipykernel_17101/1653318184.py:12: DeprecationWarning: executable_path has been deprecated, please pass in a Service object\n",
      "  browser = webdriver.Chrome('/Users/isla/Desktop/5507/5507Project/chromedriver3')\n"
     ]
    },
    {
     "name": "stdout",
     "output_type": "stream",
     "text": [
      "cookies保存成功！\n"
     ]
    }
   ],
   "source": [
    "from selenium import webdriver\n",
    "import os\n",
    "import time\n",
    "import json\n",
    "\n",
    "\n",
    "def BrowserInitial():\n",
    "    os.chdir('/Users/isla/Desktop/5507/5507Project')\n",
    "    browser = webdriver.Chrome('/Users/isla/Desktop/5507/5507Project/chromedriver3')\n",
    "    log_url = 'https://user.qunar.com/passport/login.jsp?ret=https%3A%2F%2Fhotel.qunar.com%2Fcn%2Fsanya%2F%3FfromDate%3D2022-11-17%26toDate%3D2022-11-18%26cityName%3D%25E4%25B8%2589%25E4%25BA%259A'\n",
    "    return log_url, browser\n",
    "\n",
    "\n",
    "def GetCookies(log_url, browser):\n",
    "    browser.get(log_url)\n",
    "    time.sleep(15)  \n",
    "    dictCookies = browser.get_cookies()  \n",
    "    jsonCookies = json.dumps(dictCookies)  \n",
    "\n",
    "    with open('qunar_cookies.txt', 'w') as f:\n",
    "        f.write(jsonCookies)\n",
    "    print('cookies保存成功！')\n",
    "\n",
    "\n",
    "if __name__ == \"__main__\":\n",
    "    tur = BrowserInitial()\n",
    "    GetCookies(tur[0], tur[1])"
   ]
  }
 ],
 "metadata": {
  "kernelspec": {
   "display_name": "Python 3 (ipykernel)",
   "language": "python",
   "name": "python3"
  },
  "language_info": {
   "codemirror_mode": {
    "name": "ipython",
    "version": 3
   },
   "file_extension": ".py",
   "mimetype": "text/x-python",
   "name": "python",
   "nbconvert_exporter": "python",
   "pygments_lexer": "ipython3",
   "version": "3.9.12"
  }
 },
 "nbformat": 4,
 "nbformat_minor": 5
}
