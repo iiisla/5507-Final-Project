{
 "cells": [
  {
   "cell_type": "code",
   "execution_count": 3,
   "id": "55b2e04a",
   "metadata": {},
   "outputs": [],
   "source": [
    "import matplotlib.pyplot as plt\n",
    "import seaborn as sns\n",
    "import numpy as np\n",
    "import pandas as pd\n",
    "import re"
   ]
  },
  {
   "cell_type": "code",
   "execution_count": null,
   "id": "07b83267",
   "metadata": {},
   "outputs": [],
   "source": [
    "# Clean the \"出发\" in \"Departure Date\"\n",
    "\n",
    "def clear(text):\n",
    "    res = re.compile(\"出发\")\n",
    "    return res.sub('',str(text))\n",
    "data=pd.read_csv('/Users/isla/Desktop/5507FinalPaper/Dataset/GuideData/2sanya_data.csv')\n",
    "data['出发日期']=data['出发日期'].apply(clear)\n",
    "\n",
    "\n",
    "# Set the \"departure date\" as an index\n",
    "\n",
    "data['出发日期']=pd.to_datetime(data['出发日期'])\n",
    "data=data.set_index('出发日期')\n",
    "data.head(10)"
   ]
  },
  {
   "cell_type": "code",
   "execution_count": null,
   "id": "fc17a29f",
   "metadata": {},
   "outputs": [],
   "source": [
    "# Grouped by year and month\n",
    "\n",
    "data=data.groupby([(data.index.year),(data.index.month)])\n",
    "data.head()"
   ]
  },
  {
   "cell_type": "code",
   "execution_count": null,
   "id": "38c877ea",
   "metadata": {},
   "outputs": [],
   "source": [
    "# Make a heatmap\n",
    "\n",
    "target=pd.pivot_table(df,values='标题',index='year',columns='month')\n",
    "target.fillna(0,inplace=True)\n",
    "target.sort_index(ascending=True, inplace=True)\n",
    "plt.rcParams['font.sans-serif'] = 'Times New Roman'\n",
    "plt.rcParams['axes.unicode_minus'] = False\n",
    "plt.pcolor(target,cmap=plt.cm.OrRd,edgecolors = 'white' )\n",
    "plt.xticks(np.arange(12)+0.5,['1','2','3','4','5','6','7','8','9','10','11','12'])\n",
    "plt.yticks(np.arange(8)+0.5,['2015','2016','2017','2018','2019','2020','2021','2022'])\n",
    "plt.tick_params(top='off', right = 'off')\n",
    "plt.title('Departure Time for Sanya',fontsize=15)\n",
    "plt.xlabel('Month',fontsize=10)\n",
    "plt.ylabel('Year',fontsize=10)\n",
    "plt.savefig('2sanya_heatmap.jpg',dpi=300,bbox_inches='tight')\n",
    "plt.show()"
   ]
  },
  {
   "cell_type": "code",
   "execution_count": null,
   "id": "e970ef3f",
   "metadata": {},
   "outputs": [],
   "source": []
  }
 ],
 "metadata": {
  "kernelspec": {
   "display_name": "Python 3 (ipykernel)",
   "language": "python",
   "name": "python3"
  },
  "language_info": {
   "codemirror_mode": {
    "name": "ipython",
    "version": 3
   },
   "file_extension": ".py",
   "mimetype": "text/x-python",
   "name": "python",
   "nbconvert_exporter": "python",
   "pygments_lexer": "ipython3",
   "version": "3.9.12"
  }
 },
 "nbformat": 4,
 "nbformat_minor": 5
}
