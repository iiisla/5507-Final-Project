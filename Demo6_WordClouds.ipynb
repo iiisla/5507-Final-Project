{
 "cells": [
  {
   "cell_type": "code",
   "execution_count": null,
   "id": "08c2dc7a",
   "metadata": {},
   "outputs": [],
   "source": [
    "!pip install jieba\n",
    "!pip install -i https://pypi.tuna.tsinghua.edu.cn/simple wordcloud\n",
    "!pip install more_itertools"
   ]
  },
  {
   "cell_type": "code",
   "execution_count": 7,
   "id": "8c2d9af4",
   "metadata": {},
   "outputs": [],
   "source": [
    "import pandas as pd\n",
    "import numpy as np\n",
    "import re\n",
    "from itertools import chain\n",
    "from collections import Counter\n",
    "from pylab import *\n",
    "import matplotlib.pyplot as plt\n",
    "from wordcloud import WordCloud\n",
    "from PIL import Image"
   ]
  },
  {
   "cell_type": "code",
   "execution_count": null,
   "id": "f5f352ac",
   "metadata": {},
   "outputs": [],
   "source": [
    "# Filter characters other than Chinese, English and numbers\n",
    "\n",
    "def clear(text):\n",
    "    res = re.compile(\"[^\\\\u4e00-\\\\u9fa5^a-z^A-Z^0-9]\")\n",
    "    return res.sub('',str(text))\n",
    "\n",
    "data = pd.read_csv('/Users/isla/Desktop/5507final/Dataset/GuideData/2sanya_data.csv')\n",
    "\n",
    "# View missing values\n",
    "data.isnull().sum()\n",
    "\n",
    "# Fill in missing values\n",
    "# Title\n",
    "data['标题'].fillna('未知',inplace=True)\n",
    "data.dropna(inplace=True)\n",
    "data['comment'] = data['标题'].apply(clear)\n",
    "# Type\n",
    "#data['玩法'].fillna('未知',inplace=True)\n",
    "#data.dropna(inplace=True)\n",
    "#data['comment'] = data['玩法'].apply(clear)\n",
    "# Comment\n",
    "#data['评论'].fillna('未知',inplace=True)\n",
    "#data.dropna(inplace=True)\n",
    "#data['comment'] = data['评论'].apply(clear)\n"
   ]
  },
  {
   "cell_type": "code",
   "execution_count": null,
   "id": "89d9d523",
   "metadata": {},
   "outputs": [],
   "source": [
    "#Tokenize the cleaned plain text\n",
    "\n",
    "import jieba\n",
    "def cut_word(text):\n",
    "    return jieba.lcut(text)\n",
    "data['cut'] = data['comment'].apply(cut_word)\n",
    "data.head()"
   ]
  },
  {
   "cell_type": "code",
   "execution_count": null,
   "id": "15342167",
   "metadata": {},
   "outputs": [],
   "source": [
    "#Stop words\n",
    "\n",
    "def get_stopword():\n",
    "    s = set()\n",
    "    with open('/Users/isla/Desktop/5507/5507Project/stop_words.txt',encoding = 'UTF-8') as f: \n",
    "        for line in f:\n",
    "            s.add(line.strip())\n",
    "    return s\n",
    "def remove_stopword(words):\n",
    "    return [word for word in words if word not in stopword]\n",
    "\n",
    "stopword = get_stopword()\n",
    "data['remove_stopword'] = data['cut'].apply(remove_stopword)\n",
    "data.head()"
   ]
  },
  {
   "cell_type": "code",
   "execution_count": null,
   "id": "fe4bbac2",
   "metadata": {},
   "outputs": [],
   "source": [
    "# Word frequency statistics\n",
    "\n",
    "li_2d = data['remove_stopword'].tolist()\n",
    "li_1d = list(chain.from_iterable(li_2d))\n",
    "print(f'总词汇量：{len(li_1d)}')\n",
    "c = Counter(li_1d)\n",
    "print(f'不重复词汇量：{len(c)}')\n",
    "common = c.most_common(15)\n",
    "print(common)\n"
   ]
  },
  {
   "cell_type": "code",
   "execution_count": null,
   "id": "7676afac",
   "metadata": {},
   "outputs": [],
   "source": [
    "# Make Word Clouds\n",
    "\n",
    "# Switch stencil photos\n",
    "backpic = imread('/Users/isla/Desktop/pp.webp')\n",
    "\n",
    "# Modify parameters\n",
    "wc = WordCloud(font_path=r'/System/Library/Fonts/Supplemental/Songti.ttc',background_color='white',mask = background)\n",
    "img = wc.generate_from_frequencies(c)\n",
    "plt.figure(figsize=(15,10))\n",
    "plt.imshow(img)\n",
    "plt.axis('off')\n",
    "\n",
    "\n",
    "# Save Word Clouds\n",
    "img.to_file('2sanya_ciyun.jpg')"
   ]
  }
 ],
 "metadata": {
  "kernelspec": {
   "display_name": "Python 3 (ipykernel)",
   "language": "python",
   "name": "python3"
  },
  "language_info": {
   "codemirror_mode": {
    "name": "ipython",
    "version": 3
   },
   "file_extension": ".py",
   "mimetype": "text/x-python",
   "name": "python",
   "nbconvert_exporter": "python",
   "pygments_lexer": "ipython3",
   "version": "3.9.12"
  }
 },
 "nbformat": 4,
 "nbformat_minor": 5
}
